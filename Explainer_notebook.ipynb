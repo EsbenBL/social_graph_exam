{
 "cells": [
  {
   "cell_type": "markdown",
   "id": "06de880b",
   "metadata": {},
   "source": [
    "# Motivation"
   ]
  },
  {
   "cell_type": "markdown",
   "id": "2583db41",
   "metadata": {},
   "source": [
    "- What is your dataset?\n",
    "\n",
    "- Why did you choose this/these particular dataset(s)?\n",
    "\n",
    "- What was your goal for the end user's experience?"
   ]
  },
  {
   "cell_type": "markdown",
   "id": "12260c95",
   "metadata": {},
   "source": [
    "# Basic"
   ]
  },
  {
   "cell_type": "markdown",
   "id": "fc64bbcd",
   "metadata": {},
   "source": [
    "- Write about your choices in data cleaning and preprocessing\n",
    "\n",
    "- Write a short section that discusses the dataset stats (here you can recycle the work you did for Project Assignment A)"
   ]
  },
  {
   "cell_type": "markdown",
   "id": "0b098965",
   "metadata": {},
   "source": [
    "# Tools, theory and analysis. Describe the process of theory to insight"
   ]
  },
  {
   "cell_type": "markdown",
   "id": "db6f9e07",
   "metadata": {},
   "source": [
    "- Talk about how you've worked with text, including regular expressions, unicode, etc.\n",
    "Describe which network science tools and data analysis strategies you've used, how those network science measures work, and why the tools you've chosen are right for the problem you're solving.\n",
    "\n",
    "- How did you use the tools to understand your dataset?"
   ]
  },
  {
   "cell_type": "markdown",
   "id": "15e3bff6",
   "metadata": {},
   "source": [
    "# Discussion. Think critically about your creation"
   ]
  },
  {
   "cell_type": "markdown",
   "id": "1de25137",
   "metadata": {},
   "source": [
    "- What went well?,\n",
    "- What is still missing? What could be improved?, Why?"
   ]
  },
  {
   "cell_type": "markdown",
   "id": "3745a89e",
   "metadata": {},
   "source": [
    "# Constributions"
   ]
  },
  {
   "cell_type": "markdown",
   "id": "b7f60c4c",
   "metadata": {},
   "source": [
    "- You should write (just briefly) which group member was the main responsible for which elements of the assignment. (I want you guys to understand every part of the assignment, but usually there is someone who took lead role on certain portions of the work. That’s what you should explain).\n",
    "\n",
    "- It is not OK simply to write \"All group members contributed equally\"."
   ]
  }
 ],
 "metadata": {
  "kernelspec": {
   "display_name": "Python 3 (ipykernel)",
   "language": "python",
   "name": "python3"
  },
  "language_info": {
   "codemirror_mode": {
    "name": "ipython",
    "version": 3
   },
   "file_extension": ".py",
   "mimetype": "text/x-python",
   "name": "python",
   "nbconvert_exporter": "python",
   "pygments_lexer": "ipython3",
   "version": "3.7.3"
  }
 },
 "nbformat": 4,
 "nbformat_minor": 5
}
